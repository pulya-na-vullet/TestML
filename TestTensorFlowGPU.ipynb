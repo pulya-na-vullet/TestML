{
  "nbformat": 4,
  "nbformat_minor": 0,
  "metadata": {
    "colab": {
      "provenance": [],
      "authorship_tag": "ABX9TyNw8164XIkchw42s7Xe4FN7",
      "include_colab_link": true
    },
    "kernelspec": {
      "name": "python3",
      "display_name": "Python 3"
    },
    "language_info": {
      "name": "python"
    }
  },
  "cells": [
    {
      "cell_type": "markdown",
      "metadata": {
        "id": "view-in-github",
        "colab_type": "text"
      },
      "source": [
        "<a href=\"https://colab.research.google.com/github/pulya-na-vullet/TestML/blob/main/TestTensorFlowGPU.ipynb\" target=\"_parent\"><img src=\"https://colab.research.google.com/assets/colab-badge.svg\" alt=\"Open In Colab\"/></a>"
      ]
    },
    {
      "cell_type": "code",
      "execution_count": null,
      "metadata": {
        "id": "m7fDkP7MmGxM"
      },
      "outputs": [],
      "source": [
        "import tensorflow as tf\n",
        "from tensorflow.keras import datasets, layers, models\n",
        "import matplotlib.pyplot as plt\n",
        "import numpy as np\n",
        "\n",
        "# подготовка датасета CIFAR-10\n",
        "(train_images, train_labels), (test_images, test_labels) = datasets.cifar10.load_data()\n",
        "\n",
        "# нормализация\n",
        "train_images, test_images = train_images / 255.0, test_images / 255.0\n",
        "\n",
        "# аугументация\n",
        "datagen = tf.keras.preprocessing.image.ImageDataGenerator(\n",
        "    rotation_range=15,\n",
        "    width_shift_range=0.1,\n",
        "    height_shift_range=0.1,\n",
        "    horizontal_flip=True\n",
        ")\n",
        "datagen.fit(train_images)\n",
        "\n",
        "# определение архитектуры модели\n",
        "model = models.Sequential([\n",
        "    layers.Conv2D(32, (3, 3), activation='relu', input_shape=(32, 32, 3)),\n",
        "    layers.MaxPooling2D((2, 2)),\n",
        "    layers.Conv2D(64, (3, 3), activation='relu'),\n",
        "    layers.MaxPooling2D((2, 2)),\n",
        "    layers.Conv2D(64, (3, 3), activation='relu'),\n",
        "    layers.Flatten(),\n",
        "    layers.Dense(64, activation='relu'),\n",
        "    layers.Dense(10, activation='softmax')\n",
        "])\n",
        "\n",
        "# компиляция модели\n",
        "model.compile(optimizer='adam',\n",
        "              loss='sparse_categorical_crossentropy',\n",
        "              metrics=['accuracy'])\n",
        "\n",
        "# обучение модели\n",
        "history = model.fit(datagen.flow(train_images, train_labels, batch_size=64),\n",
        "                    epochs=10,\n",
        "                    validation_data=(test_images, test_labels))\n",
        "\n",
        "# визуализация\n",
        "plt.figure(figsize=(8, 4))\n",
        "\n",
        "plt.subplot(1, 2, 1)\n",
        "plt.plot(history.history['accuracy'], label='Точность на тренировочном наборе')\n",
        "plt.plot(history.history['val_accuracy'], label='Точность на проверочном наборе')\n",
        "plt.xlabel('Эпоха')\n",
        "plt.ylabel('Точность')\n",
        "plt.legend(loc='lower right')\n",
        "plt.title('Точность обучения и проверки')\n",
        "\n",
        "plt.subplot(1, 2, 2)\n",
        "plt.plot(history.history['loss'], label='Потери на тренировочном наборе')\n",
        "plt.plot(history.history['val_loss'], label='Потери на проверочном наборе')\n",
        "plt.xlabel('Эпоха')\n",
        "plt.ylabel('Потери')\n",
        "plt.legend(loc='upper right')\n",
        "plt.title('Потери обучения и проверки')\n",
        "\n",
        "plt.show()\n"
      ]
    }
  ]
}